{
 "cells": [
  {
   "cell_type": "code",
   "execution_count": 4,
   "id": "1810f4a9-59e8-4fe0-a05c-eff67022b94b",
   "metadata": {},
   "outputs": [],
   "source": [
    "from jpype import *\n",
    "import random\n",
    "import math"
   ]
  },
  {
   "cell_type": "code",
   "execution_count": 5,
   "id": "770ecc1b-6b15-4a0e-a734-307b54f7b9b4",
   "metadata": {},
   "outputs": [],
   "source": [
    "# Change location of jar to match yours:\n",
    "jarLocation = \"lib/jidt/infodynamics.jar\"\n",
    "# Start the JVM (add the \"-Xmx\" option with say 1024M if you get crashes due to not enough memory space)\n",
    "startJVM(getDefaultJVMPath(), \"-ea\", \"-Djava.class.path=\" + jarLocation)"
   ]
  },
  {
   "cell_type": "code",
   "execution_count": 6,
   "id": "5f51c9d9-64aa-487c-b2df-2bc924485614",
   "metadata": {},
   "outputs": [],
   "source": [
    "# Generate some random normalised data.\n",
    "numObservations = 1000\n",
    "covariance=0.4\n",
    "# Source array of random normals:\n",
    "sourceArray = [random.normalvariate(0,1) for r in range(numObservations)]\n"
   ]
  },
  {
   "cell_type": "code",
   "execution_count": 7,
   "id": "745a4b8f-38b3-4590-a47e-ea5d5d3937ca",
   "metadata": {},
   "outputs": [],
   "source": [
    "# Destination array of random normals with partial correlation to previous value of sourceArray\n",
    "destArray = [0] + [sum(pair) for pair in zip([covariance*y for y in sourceArray[0:numObservations-1]], \\\n",
    "                                             [(1-covariance)*y for y in [random.normalvariate(0,1) for r in range(numObservations-1)]] ) ]"
   ]
  },
  {
   "cell_type": "code",
   "execution_count": 8,
   "id": "e2d97966-4511-408e-8d97-76768bd53b4e",
   "metadata": {},
   "outputs": [],
   "source": [
    "# Uncorrelated source array:\n",
    "sourceArray2 = [random.normalvariate(0,1) for r in range(numObservations)]"
   ]
  },
  {
   "cell_type": "code",
   "execution_count": 9,
   "id": "1596c14e-5796-4434-b232-12e3524b86cd",
   "metadata": {},
   "outputs": [],
   "source": [
    "# Create a TE calculator and run it:\n",
    "teCalcClass = JPackage(\"infodynamics.measures.continuous.kernel\").TransferEntropyCalculatorKernel\n",
    "teCalc = teCalcClass()\n",
    "teCalc.setProperty(\"NORMALISE\", \"true\") # Normalise the individual variables\n",
    "teCalc.initialise(1, 0.5) # Use history length 1 (Schreiber k=1), kernel width of 0.5 normalised units\n",
    "teCalc.setObservations(JArray(JDouble, 1)(sourceArray), JArray(JDouble, 1)(destArray))"
   ]
  },
  {
   "cell_type": "code",
   "execution_count": 11,
   "id": "510edd5e-c7b1-4942-a2c6-d4b0a19b6c06",
   "metadata": {},
   "outputs": [
    {
     "data": {
      "text/plain": [
       "0.3088015838419787"
      ]
     },
     "execution_count": 11,
     "metadata": {},
     "output_type": "execute_result"
    }
   ],
   "source": [
    "# For copied source, should give something close to 1 bit:\n",
    "result = teCalc.computeAverageLocalOfObservations()\n",
    "result"
   ]
  },
  {
   "cell_type": "code",
   "execution_count": 12,
   "id": "49f5da6b-e008-4b48-845e-c4347d3e5de1",
   "metadata": {},
   "outputs": [
    {
     "name": "stdout",
     "output_type": "stream",
     "text": [
      "TE result 0.3088 bits; expected to be close to 0.2515 bits for these correlated Gaussians but biased upwards\n"
     ]
    }
   ],
   "source": [
    "print(\"TE result %.4f bits; expected to be close to %.4f bits for these correlated Gaussians but biased upwards\" % \\\n",
    "    (result, math.log(1/(1-math.pow(covariance,2)))/math.log(2)))"
   ]
  },
  {
   "cell_type": "code",
   "execution_count": 13,
   "id": "11e213b7-63eb-47a6-9dc6-7449295a572e",
   "metadata": {},
   "outputs": [
    {
     "name": "stdout",
     "output_type": "stream",
     "text": [
      "TE result 0.0887 bits; expected to be close to 0 bits for uncorrelated Gaussians but will be biased upwards\n"
     ]
    }
   ],
   "source": [
    "teCalc.initialise() # Initialise leaving the parameters the same\n",
    "teCalc.setObservations(JArray(JDouble, 1)(sourceArray2), JArray(JDouble, 1)(destArray))\n",
    "# For random source, it should give something close to 0 bits\n",
    "result2 = teCalc.computeAverageLocalOfObservations()\n",
    "print(\"TE result %.4f bits; expected to be close to 0 bits for uncorrelated Gaussians but will be biased upwards\" % \\\n",
    "    result2)"
   ]
  }
 ],
 "metadata": {
  "kernelspec": {
   "display_name": "Python 3 (ipykernel)",
   "language": "python",
   "name": "python3"
  },
  "language_info": {
   "codemirror_mode": {
    "name": "ipython",
    "version": 3
   },
   "file_extension": ".py",
   "mimetype": "text/x-python",
   "name": "python",
   "nbconvert_exporter": "python",
   "pygments_lexer": "ipython3",
   "version": "3.12.2"
  }
 },
 "nbformat": 4,
 "nbformat_minor": 5
}
